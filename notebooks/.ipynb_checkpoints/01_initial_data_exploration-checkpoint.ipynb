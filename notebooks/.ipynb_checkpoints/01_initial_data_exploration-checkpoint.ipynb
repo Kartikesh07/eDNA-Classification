{
 "cells": [
  {
   "cell_type": "code",
   "execution_count": 1,
   "id": "4b545cf8-53e5-4389-8014-da44188f6572",
   "metadata": {},
   "outputs": [
    {
     "name": "stdout",
     "output_type": "stream",
     "text": [
      "--- Reading first 5 sequences from the file ---\n",
      "ID: SRR35536287.1\n",
      "Sequence: GGTACTGGTTGAACAGTATATCCTCCGTTATCATCCTTTCCACTAGCATTTCCTTTTTCT...\n",
      "Length: 301 bp\n",
      "Quality: [12, 12, 32, 27, 34, 37, 37, 23, 36, 34, 31, 12, 34, 26, 11, 11, 34, 27, 37, 34, 35, 36, 37, 34, 36, 37, 10, 34, 36, 22, 34, 34, 11, 11, 27, 12, 36, 27, 31, 31, 34, 11, 34, 11, 11, 11, 26, 11, 11, 27, 11, 11, 11, 34, 11, 11, 26, 36, 36, 37]\n",
      "------------------------------\n",
      "ID: SRR35536287.2\n",
      "Sequence: GGTACAGGATGAACAGTTTATCCTCCTTTGTGTTCGATTACTTGCCATTGTTCTCCTTCA...\n",
      "Length: 301 bp\n",
      "Quality: [24, 34, 34, 34, 34, 37, 37, 23, 11, 34, 34, 12, 34, 34, 11, 34, 36, 37, 37, 34, 34, 36, 37, 36, 37, 37, 38, 38, 38, 11, 11, 11, 28, 27, 37, 21, 11, 34, 34, 11, 26, 34, 11, 11, 21, 34, 11, 31, 11, 11, 27, 34, 34, 32, 34, 34, 37, 11, 26, 11]\n",
      "------------------------------\n",
      "ID: SRR35536287.3\n",
      "Sequence: GGTACTGGTTGAACAGTATATCCTCCGTTATCAGCCTTTCCACAAGCAATTCCTGTTTCT...\n",
      "Length: 299 bp\n",
      "Quality: [12, 32, 34, 34, 34, 37, 35, 36, 36, 36, 21, 31, 27, 26, 27, 11, 34, 24, 37, 36, 35, 36, 37, 34, 36, 37, 10, 35, 36, 22, 36, 34, 24, 11, 34, 34, 37, 34, 11, 34, 34, 11, 26, 11, 11, 11, 26, 11, 11, 26, 11, 26, 11, 34, 11, 11, 26, 36, 27, 37]\n",
      "------------------------------\n",
      "ID: SRR35536287.4\n",
      "Sequence: GGAACAGGATGAACTGTATACCCTCCTTTAAGTGCATTAGAAAAAGCAATGCCTGGTTCA...\n",
      "Length: 301 bp\n",
      "Quality: [31, 34, 34, 34, 34, 38, 38, 38, 34, 37, 37, 37, 37, 38, 37, 37, 37, 34, 37, 38, 38, 38, 38, 38, 38, 38, 38, 38, 38, 37, 34, 27, 37, 27, 37, 32, 37, 38, 37, 11, 11, 27, 36, 27, 31, 34, 37, 23, 11, 36, 31, 34, 35, 37, 32, 23, 36, 37, 36, 24]\n",
      "------------------------------\n",
      "ID: SRR35536287.5\n",
      "Sequence: GGTACTGGTTGAACTGTATACCCTCCTTTATCTAGTAATATTGCTCATTCTGTAAGATCA...\n",
      "Length: 301 bp\n",
      "Quality: [34, 34, 34, 34, 34, 38, 38, 23, 36, 36, 37, 34, 37, 34, 35, 37, 36, 34, 37, 37, 34, 36, 37, 34, 37, 37, 37, 38, 38, 24, 34, 31, 37, 31, 24, 36, 24, 11, 34, 11, 34, 37, 11, 11, 34, 24, 11, 36, 36, 37, 37, 24, 11, 11, 11, 27, 11, 31, 27, 11]\n",
      "------------------------------\n",
      "\n",
      "Successfully read 5 records.\n"
     ]
    }
   ],
   "source": [
    "# Import the 'SeqIO' module from the Biopython library\n",
    "# SeqIO is designed for reading and writing sequence files\n",
    "from Bio import SeqIO\n",
    "import os\n",
    "\n",
    "# --- 1. Define the path to our data file ---\n",
    "# We are in the 'notebooks' folder, so we need to go 'up' one level (..)\n",
    "# and then down into 'data/raw'\n",
    "file_path = os.path.join(\"..\", \"data\", \"raw\", \"SRR35536287_1.fastq\")\n",
    "\n",
    "# --- 2. Initialize a counter and set a limit ---\n",
    "# We don't want to print all 144,000+ sequences!\n",
    "limit = 5\n",
    "count = 0\n",
    "\n",
    "print(f\"--- Reading first {limit} sequences from the file ---\")\n",
    "\n",
    "# --- 3. Loop through the FASTQ file ---\n",
    "# SeqIO.parse is a smart way to read a sequence file one record at a time\n",
    "# It's memory efficient because it doesn't load the whole file at once.\n",
    "for record in SeqIO.parse(file_path, \"fastq\"):\n",
    "    if count < limit:\n",
    "        # Print the information for the current record\n",
    "        print(f\"ID: {record.id}\")\n",
    "        print(f\"Sequence: {record.seq[:60]}...\") # Print first 60 letters\n",
    "        print(f\"Length: {len(record.seq)} bp\")  # bp stands for base pairs\n",
    "        \n",
    "        # Get the quality scores for the first 60 bases\n",
    "        quality_scores = record.letter_annotations[\"phred_quality\"][:60]\n",
    "        print(f\"Quality: {quality_scores}\")\n",
    "        print(\"-\" * 30) # A separator for readability\n",
    "        \n",
    "        count += 1\n",
    "    else:\n",
    "        # Stop the loop once we reach our limit\n",
    "        break\n",
    "\n",
    "print(f\"\\nSuccessfully read {count} records.\")"
   ]
  },
  {
   "cell_type": "code",
   "execution_count": null,
   "id": "00f6ff94-5009-4f99-b951-fd80f5a482a2",
   "metadata": {},
   "outputs": [],
   "source": []
  }
 ],
 "metadata": {
  "kernelspec": {
   "display_name": "Python 3 (ipykernel)",
   "language": "python",
   "name": "python3"
  },
  "language_info": {
   "codemirror_mode": {
    "name": "ipython",
    "version": 3
   },
   "file_extension": ".py",
   "mimetype": "text/x-python",
   "name": "python",
   "nbconvert_exporter": "python",
   "pygments_lexer": "ipython3",
   "version": "3.13.5"
  }
 },
 "nbformat": 4,
 "nbformat_minor": 5
}
